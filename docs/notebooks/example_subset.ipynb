{
 "cells": [
  {
   "cell_type": "markdown",
   "metadata": {},
   "source": [
    "## Subsetting SCHISM NetCDF data\n",
    "This example shows how to subset the `suxarray` data."
   ]
  },
  {
   "cell_type": "code",
   "execution_count": 1,
   "metadata": {},
   "outputs": [],
   "source": [
    "# Import packages\n",
    "from pathlib import Path\n",
    "import numpy as np\n",
    "import xarray as xr\n",
    "import suxarray as sx"
   ]
  },
  {
   "cell_type": "code",
   "execution_count": 2,
   "metadata": {},
   "outputs": [],
   "source": [
    "# Where the test data is located.\n",
    "# The test data is a subset from a Bay-Delta SCHISM model at Carquinez Strait.\n",
    "dir_data = Path('../../tests/testdata')\n",
    "\n",
    "# Read the test data\n",
    "files_out2d = [str(p) for p in [dir_data / 'out2d_1.nc', dir_data / 'out2d_2.nc']]\n",
    "files_zcoords = [str(p) for p in [dir_data / 'zCoordinates_1.nc', dir_data / 'zCoordinates_2.nc']]\n",
    "grid = sx.open_grid(files_out2d, files_zcoords)\n",
    "\n",
    "# We are converting the data to float64 for later calculation.\n",
    "files_salinity = [dir_data / 'salinity_1.nc', dir_data / 'salinity_2.nc']\n",
    "ds_salinity = xr.open_mfdataset(files_salinity, parallel=True).astype(np.float64)\n",
    "sxds = sx.read_schism_nc(grid, ds_salinity)"
   ]
  },
  {
   "cell_type": "markdown",
   "metadata": {},
   "source": [
    "### Visualize the original data\n",
    "Let's visualize the surface salinity data at the first time step from the dataset."
   ]
  },
  {
   "cell_type": "code",
   "execution_count": null,
   "metadata": {},
   "outputs": [],
   "source": [
    "# Select the surface level first, then calculate the topological mean to elements (faces)\n",
    "sxds_salinity_face = sxds.salinity.isel(n_layer=-1).topological_mean(destination=\"face\")\n",
    "# Visualize the result\n",
    "sxds_salinity_face.isel(time=0).plot().opts(width=600, height=350)"
   ]
  },
  {
   "cell_type": "markdown",
   "metadata": {},
   "source": [
    "### Subset the data\n",
    "Let's subset the small blob at the top left corner of the original data set. We will use `bounding_box_xy` method in `subset` accessor. This method accepts the bounding box coordinates in the form of two tuples. The first tuple is the range of x, and the second tuple the range of y coordinates. Note that the visualization uses the longitude and latitude coordinates, but the dataset keeps the original projected x and y coordinates, and they are used by this subset method."
   ]
  },
  {
   "cell_type": "code",
   "execution_count": null,
   "metadata": {},
   "outputs": [],
   "source": [
    "bounding_x = [569268., 570000.]\n",
    "bounding_y = [4213114., 4213630.]\n",
    "sxda_subset = sxds.salinity.subset.bounding_box_xy(bounding_x, bounding_y)\n",
    "sxda_subset.isel(time=0, n_layer=-1).topological_mean(destination=\"face\").plot().opts(width=600, height=350)"
   ]
  }
 ],
 "metadata": {
  "kernelspec": {
   "display_name": "suxarray_dev",
   "language": "python",
   "name": "python3"
  },
  "language_info": {
   "codemirror_mode": {
    "name": "ipython",
    "version": 3
   },
   "file_extension": ".py",
   "mimetype": "text/x-python",
   "name": "python",
   "nbconvert_exporter": "python",
   "pygments_lexer": "ipython3",
   "version": "3.11.8"
  }
 },
 "nbformat": 4,
 "nbformat_minor": 2
}
